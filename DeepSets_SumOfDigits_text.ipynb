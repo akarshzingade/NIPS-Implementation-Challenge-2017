{
 "cells": [
  {
   "cell_type": "code",
   "execution_count": 1,
   "metadata": {},
   "outputs": [
    {
     "name": "stderr",
     "output_type": "stream",
     "text": [
      "Using TensorFlow backend.\n"
     ]
    }
   ],
   "source": [
    "import numpy as np\n",
    "from __future__ import print_function\n",
    "import keras\n",
    "from keras.layers import Dense,Input,Lambda\n",
    "from keras.models import Model\n",
    "from keras.optimizers import SGD\n",
    "import tensorflow as tf\n",
    "import keras.backend as K"
   ]
  },
  {
   "cell_type": "code",
   "execution_count": 22,
   "metadata": {},
   "outputs": [],
   "source": [
    "# Data Generator for generating numbers to be summed up. 'N_' is the number of digits to generate for a given batch.\n",
    "class DataGenerator(object):\n",
    "    \n",
    "    def __init__(self, batch_size = 32, shuffle = True):\n",
    "        self.batch_size = batch_size\n",
    "        self.shuffle = shuffle\n",
    "\n",
    "    def generate(self,N_=None):\n",
    "        \n",
    "         while 1:\n",
    "            if N_ == None:\n",
    "                N = (np.random.randint(10, size=1)+1)[0]\n",
    "            else:\n",
    "                N = N_\n",
    "            X = np.random.randint(10, size=(N*self.batch_size))\n",
    "            X = np.reshape(X,(self.batch_size,N,1))\n",
    "            y = np.sum(X,axis=1)\n",
    "            y = np.reshape(y,(self.batch_size,1,1))\n",
    "            \n",
    "            yield X, y"
   ]
  },
  {
   "cell_type": "code",
   "execution_count": 3,
   "metadata": {
    "collapsed": true
   },
   "outputs": [],
   "source": [
    "# Parameters for the model.\n",
    "params = {'batch_size': 32,\n",
    "          'shuffle': True}"
   ]
  },
  {
   "cell_type": "code",
   "execution_count": 4,
   "metadata": {
    "collapsed": true
   },
   "outputs": [],
   "source": [
    "# Generators for Train and Test. Maximum number of digits = 10\n",
    "train_generator = DataGenerator(**params).generate()\n",
    "test_generator = DataGenerator(**params).generate()"
   ]
  },
  {
   "cell_type": "code",
   "execution_count": 12,
   "metadata": {},
   "outputs": [],
   "source": [
    "# Deep Sets Model\n",
    "\n",
    "# \\phi Network\n",
    "x = Input(shape=(None,1,))\n",
    "y = Dense(256, activation='relu')(x)\n",
    "y = Dense(128, activation='relu')(y)\n",
    "y = Dense(64, activation='relu')(y)\n",
    "\n",
    "# Summing the representations outputted by \\phi Network.\n",
    "y = Lambda(lambda x_: tf.reduce_sum(x_,axis=1,keep_dims=True))(y)\n",
    "\n",
    "# \\rho Network\n",
    "y = Dense(256, activation='relu')(y)\n",
    "y = Dense(128, activation='relu')(y)\n",
    "y = Dense(64, activation='relu')(y)\n",
    "y = Dense(1,activation='relu')(y)\n",
    "\n",
    "model = Model(x,y)"
   ]
  },
  {
   "cell_type": "code",
   "execution_count": 13,
   "metadata": {},
   "outputs": [
    {
     "name": "stdout",
     "output_type": "stream",
     "text": [
      "input_2 (None, None, 1)\n",
      "dense_8 (None, None, 256)\n",
      "dense_9 (None, None, 128)\n",
      "dense_10 (None, None, 64)\n",
      "lambda_2 (None, 1, 64)\n",
      "dense_11 (None, 1, 256)\n",
      "dense_12 (None, 1, 128)\n",
      "dense_13 (None, 1, 64)\n",
      "dense_14 (None, 1, 1)\n"
     ]
    }
   ],
   "source": [
    "for layer in model.layers:\n",
    "    print (layer.name,layer.output_shape)"
   ]
  },
  {
   "cell_type": "code",
   "execution_count": 14,
   "metadata": {
    "collapsed": true
   },
   "outputs": [],
   "source": [
    "train_steps_per_epoch=100000\n",
    "test_steps_per_epoch=10000\n",
    "train_epochs=2"
   ]
  },
  {
   "cell_type": "code",
   "execution_count": 15,
   "metadata": {
    "collapsed": true
   },
   "outputs": [],
   "source": [
    "# L2 Loss function that the model is optimised on.\n",
    "def least_squared_error(y_true, y_pred):\n",
    "    return K.sum(K.square(y_pred - y_true), axis=-1)"
   ]
  },
  {
   "cell_type": "code",
   "execution_count": 16,
   "metadata": {},
   "outputs": [],
   "source": [
    "# Compiling the model.\n",
    "model.compile(optimizer='adam',\n",
    "              loss=least_squared_error,\n",
    "              metrics=['accuracy'])"
   ]
  },
  {
   "cell_type": "code",
   "execution_count": 17,
   "metadata": {},
   "outputs": [
    {
     "name": "stdout",
     "output_type": "stream",
     "text": [
      "Epoch 1/2\n",
      "100000/100000 [==============================] - 544s - loss: 0.3505 - acc: 0.9461 - val_loss: 3.9901e-05 - val_acc: 1.0000\n",
      "Epoch 2/2\n",
      "100000/100000 [==============================] - 543s - loss: 0.1096 - acc: 0.9674 - val_loss: 8.7681e-04 - val_acc: 1.0000\n"
     ]
    },
    {
     "data": {
      "text/plain": [
       "<keras.callbacks.History at 0x7f0680ea8c90>"
      ]
     },
     "execution_count": 17,
     "metadata": {},
     "output_type": "execute_result"
    }
   ],
   "source": [
    "# Training the model\n",
    "model.fit_generator(train_generator,\n",
    "                    steps_per_epoch=train_steps_per_epoch,\n",
    "                    epochs=train_epochs,\n",
    "                    validation_data=test_generator,\n",
    "                    validation_steps=test_steps_per_epoch\n",
    "                    )"
   ]
  },
  {
   "cell_type": "code",
   "execution_count": null,
   "metadata": {
    "collapsed": true
   },
   "outputs": [],
   "source": [
    "# Seems like it is achieving 100% accuracy for the test set. But I guess, there will be a lot of overlap with the sets it has seen in train set. "
   ]
  },
  {
   "cell_type": "code",
   "execution_count": 18,
   "metadata": {},
   "outputs": [
    {
     "name": "stdout",
     "output_type": "stream",
     "text": [
      "Ground Truth: 28\n",
      "Prediction: [[[ 28.02798653]]]\n"
     ]
    }
   ],
   "source": [
    "test_x = np.random.randint(10, size=(10))\n",
    "prediction = model.predict(np.reshape(test_x,(1,10,1)))\n",
    "ground_truth = np.sum(test_x)\n",
    "\n",
    "print (\"Ground Truth: \"+str(ground_truth))\n",
    "print (\"Prediction: \"+str(prediction))"
   ]
  },
  {
   "cell_type": "code",
   "execution_count": 19,
   "metadata": {},
   "outputs": [
    {
     "name": "stdout",
     "output_type": "stream",
     "text": [
      "Ground Truth: 45\n",
      "Prediction: [[[ 45.0466423]]]\n"
     ]
    }
   ],
   "source": [
    "test_x = np.random.randint(10, size=(10))\n",
    "prediction = model.predict(np.reshape(test_x,(1,10,1)))\n",
    "ground_truth = np.sum(test_x)\n",
    "\n",
    "print (\"Ground Truth: \"+str(ground_truth))\n",
    "print (\"Prediction: \"+str(prediction))"
   ]
  },
  {
   "cell_type": "code",
   "execution_count": 26,
   "metadata": {},
   "outputs": [
    {
     "name": "stdout",
     "output_type": "stream",
     "text": [
      "Loss: 0.00198271378723\n",
      "Accuracy: 100.0\n"
     ]
    }
   ],
   "source": [
    "#Evaluating for 10 digits per set for 32000 sets.\n",
    "output = model.evaluate_generator(DataGenerator(**params).generate(N_=10),steps=1000)\n",
    "print (\"Loss: \"+str(output[0]))\n",
    "print (\"Accuracy: \"+str(output[1]*100))"
   ]
  },
  {
   "cell_type": "code",
   "execution_count": 28,
   "metadata": {},
   "outputs": [
    {
     "name": "stdout",
     "output_type": "stream",
     "text": [
      "Loss: 0.131676646866\n",
      "Accuracy: 100.0\n"
     ]
    }
   ],
   "source": [
    "#Evaluating for 100 digits per set for 32000 sets.\n",
    "output = model.evaluate_generator(DataGenerator(**params).generate(N_=100),steps=1000)\n",
    "print (\"Loss: \"+str(output[0]))\n",
    "print (\"Accuracy: \"+str(output[1]*100))"
   ]
  },
  {
   "cell_type": "code",
   "execution_count": null,
   "metadata": {
    "collapsed": true
   },
   "outputs": [],
   "source": []
  },
  {
   "cell_type": "code",
   "execution_count": null,
   "metadata": {
    "collapsed": true
   },
   "outputs": [],
   "source": []
  }
 ],
 "metadata": {
  "kernelspec": {
   "display_name": "Python 2",
   "language": "python",
   "name": "python2"
  },
  "language_info": {
   "codemirror_mode": {
    "name": "ipython",
    "version": 2
   },
   "file_extension": ".py",
   "mimetype": "text/x-python",
   "name": "python",
   "nbconvert_exporter": "python",
   "pygments_lexer": "ipython2",
   "version": "2.7.12"
  }
 },
 "nbformat": 4,
 "nbformat_minor": 2
}
