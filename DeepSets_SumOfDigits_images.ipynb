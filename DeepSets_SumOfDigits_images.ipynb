{
 "cells": [
  {
   "cell_type": "code",
   "execution_count": 1,
   "metadata": {},
   "outputs": [
    {
     "name": "stderr",
     "output_type": "stream",
     "text": [
      "Using TensorFlow backend.\n"
     ]
    }
   ],
   "source": [
    "import numpy as np\n",
    "from __future__ import print_function\n",
    "import keras\n",
    "from keras.layers import Dense,Input,Lambda\n",
    "from keras.models import Model\n",
    "from keras.optimizers import SGD\n",
    "import tensorflow as tf\n",
    "import keras.backend as K"
   ]
  },
  {
   "cell_type": "code",
   "execution_count": 2,
   "metadata": {
    "collapsed": true
   },
   "outputs": [],
   "source": [
    "import struct\n",
    "\n",
    "def _read_int(buf):\n",
    "    return struct.unpack('>i', buf.read(4))[0]\n",
    "\n",
    "def load_idx(filepath):\n",
    "    with open(filepath, 'rb') as f:\n",
    "        magic = _read_int(f)\n",
    "        if magic == 2051:\n",
    "            shape = (_read_int(f), _read_int(f), _read_int(f))\n",
    "        elif magic == 2049:\n",
    "            shape = _read_int(f)\n",
    "        else:\n",
    "            raise RuntimeError('could not parse header correctly')\n",
    "        array = np.fromfile(f, dtype='B', count=np.prod(shape))\n",
    "        array = np.reshape(array, shape)\n",
    "    return array"
   ]
  },
  {
   "cell_type": "code",
   "execution_count": 3,
   "metadata": {
    "collapsed": true
   },
   "outputs": [],
   "source": [
    "pat_file = './infimnist/data/t10k-images-idx3-ubyte'\n",
    "lab_file = './infimnist/data/t10k-labels-idx1-ubyte'\n",
    "test_x, test_y = map(load_idx, [pat_file, lab_file])\n",
    "pat_file = './infimnist/data/train-images-idx3-ubyte'\n",
    "lab_file = './infimnist/data/train-labels-idx1-ubyte'\n",
    "train_x, train_y = map(load_idx, [pat_file, lab_file])"
   ]
  },
  {
   "cell_type": "code",
   "execution_count": 4,
   "metadata": {},
   "outputs": [
    {
     "data": {
      "text/plain": [
       "(60000, 28, 28)"
      ]
     },
     "execution_count": 4,
     "metadata": {},
     "output_type": "execute_result"
    }
   ],
   "source": [
    "train_x.shape"
   ]
  },
  {
   "cell_type": "code",
   "execution_count": 5,
   "metadata": {},
   "outputs": [
    {
     "data": {
      "text/plain": [
       "(10000, 28, 28)"
      ]
     },
     "execution_count": 5,
     "metadata": {},
     "output_type": "execute_result"
    }
   ],
   "source": [
    "test_x.shape"
   ]
  },
  {
   "cell_type": "code",
   "execution_count": 6,
   "metadata": {
    "collapsed": true
   },
   "outputs": [],
   "source": [
    "#train_x = np.reshape(train_x,(60000,784))"
   ]
  },
  {
   "cell_type": "code",
   "execution_count": 7,
   "metadata": {
    "collapsed": true
   },
   "outputs": [],
   "source": [
    "#test_x = np.reshape(test_x,(10000,784))"
   ]
  },
  {
   "cell_type": "code",
   "execution_count": 42,
   "metadata": {
    "collapsed": true
   },
   "outputs": [],
   "source": [
    "# Data Generator for generating numbers to be summed up. 'N_' is the number of digits to generate for a given batch.\n",
    "class DataGenerator(object):\n",
    "    \n",
    "    def __init__(self, batch_size = 32, shuffle = True):\n",
    "        self.batch_size = batch_size\n",
    "        self.shuffle = shuffle\n",
    "\n",
    "    def generate(self,N_=None):\n",
    "        \n",
    "         while 1:\n",
    "            if N_ == None: #if N_ is not specified, randomly choose N per batch.\n",
    "                N = (np.random.randint(10, size=1)+1)[0]\n",
    "            else:\n",
    "                N = N_\n",
    "            rand_values = np.random.randint(60000,size=(N*self.batch_size))\n",
    "            \n",
    "            X = train_x[rand_values]\n",
    "            X = np.reshape(X,(self.batch_size,N,28,28))\n",
    "            \n",
    "            y = train_y[rand_values]\n",
    "            y = np.reshape(y,(self.batch_size,N,1))\n",
    "            y = np.sum(y,axis=1)\n",
    "            y = np.reshape(y,(self.batch_size,1))\n",
    "            \n",
    "            yield X, y"
   ]
  },
  {
   "cell_type": "code",
   "execution_count": 43,
   "metadata": {},
   "outputs": [
    {
     "data": {
      "text/plain": [
       "(2, 28, 28)"
      ]
     },
     "execution_count": 43,
     "metadata": {},
     "output_type": "execute_result"
    }
   ],
   "source": [
    "train_x[[1,2]].shape"
   ]
  },
  {
   "cell_type": "code",
   "execution_count": 45,
   "metadata": {
    "collapsed": true
   },
   "outputs": [],
   "source": [
    "# Parameters\n",
    "params = {'batch_size': 32,\n",
    "          'shuffle': True}"
   ]
  },
  {
   "cell_type": "code",
   "execution_count": 46,
   "metadata": {
    "collapsed": true
   },
   "outputs": [],
   "source": [
    "train_generator = DataGenerator(**params).generate()\n",
    "test_generator = DataGenerator(**params).generate(N_=100)"
   ]
  },
  {
   "cell_type": "code",
   "execution_count": 47,
   "metadata": {},
   "outputs": [],
   "source": [
    "a = train_generator.next()"
   ]
  },
  {
   "cell_type": "code",
   "execution_count": 48,
   "metadata": {},
   "outputs": [
    {
     "data": {
      "text/plain": [
       "(32, 4, 28, 28)"
      ]
     },
     "execution_count": 48,
     "metadata": {},
     "output_type": "execute_result"
    }
   ],
   "source": [
    "a[0].shape"
   ]
  },
  {
   "cell_type": "code",
   "execution_count": 49,
   "metadata": {},
   "outputs": [
    {
     "data": {
      "text/plain": [
       "array([17], dtype=uint64)"
      ]
     },
     "execution_count": 49,
     "metadata": {},
     "output_type": "execute_result"
    }
   ],
   "source": [
    "a[1][0]"
   ]
  },
  {
   "cell_type": "code",
   "execution_count": null,
   "metadata": {
    "collapsed": true
   },
   "outputs": [],
   "source": []
  },
  {
   "cell_type": "code",
   "execution_count": 50,
   "metadata": {},
   "outputs": [],
   "source": [
    "from keras.layers import Dense, Dropout, Flatten\n",
    "from keras.layers import Conv3D, MaxPooling3D, Reshape\n",
    "\n",
    "x = Input(shape=(None,28,28,1))\n",
    "y = Conv3D(32, (3,3,3), activation='relu',padding='same')(x)\n",
    "y = Conv3D(64, (3,3,3), activation='relu',padding='same')(y)\n",
    "y = MaxPooling3D(pool_size=(2,2,2))(y)\n",
    "# y = Conv3D(32, (3,3,3), activation='relu',padding='same')(y)\n",
    "# y = Conv3D(32, (3,3,3), activation='relu',padding='same')(y)\n",
    "# y = MaxPooling3D(pool_size=(2,2,2))(y)\n",
    "# y = Conv3D(32, (3,3,3), activation='relu',padding='same')(y)\n",
    "# y = Conv3D(32, (3,3,3), activation='relu',padding='same')(y)\n",
    "# y = MaxPooling3D(pool_size=(2,2,2))(y)\n",
    "# y = Conv3D(32, (3,3,3), activation='relu',padding='same')(y)\n",
    "# y = Conv3D(32, (3,3,3), activation='relu',padding='same')(y)\n",
    "# y = MaxPooling3D(pool_size=(2,2,2))(y)\n",
    "\n",
    "#y = Dropout(0.25)(y)\n",
    "#y = Flatten()(y)\n",
    "\n",
    "# Summing the representations outputted by \\phi Network.\n",
    "y = Lambda(lambda x_: tf.reduce_sum(x_,axis=[1,2,3,4],keep_dims=True))(y)\n",
    "y = Reshape((1,))(y)\n",
    "\n",
    "# \\rho Network\n",
    "y = Dense(64, activation='relu')(y)\n",
    "y = Dense(32, activation='relu')(y)\n",
    "y = Dense(16, activation='relu')(y)\n",
    "#y = Dense(128, activation='relu')(y)\n",
    "#y = Dense(128, activation='relu')(y)\n",
    "y = Dense(1,activation='relu')(y)\n",
    "\n",
    "model = Model(x,y)\n"
   ]
  },
  {
   "cell_type": "code",
   "execution_count": 53,
   "metadata": {},
   "outputs": [],
   "source": [
    "from keras.layers import Dense, Dropout, Flatten\n",
    "from keras.layers import Conv2D, MaxPooling2D, Reshape\n",
    "\n",
    "x = Input(shape=(None,28,28))\n",
    "y = Conv2D(32, (3,3), activation='relu',padding='same')(x)\n",
    "y = Conv2D(64, (3,3), activation='relu',padding='same')(y)\n",
    "y = MaxPooling2D(pool_size=(2,2))(y)\n",
    "# y = Conv3D(32, (3,3,3), activation='relu',padding='same')(y)\n",
    "# y = Conv3D(32, (3,3,3), activation='relu',padding='same')(y)\n",
    "# y = MaxPooling3D(pool_size=(2,2,2))(y)\n",
    "# y = Conv3D(32, (3,3,3), activation='relu',padding='same')(y)\n",
    "# y = Conv3D(32, (3,3,3), activation='relu',padding='same')(y)\n",
    "# y = MaxPooling3D(pool_size=(2,2,2))(y)\n",
    "# y = Conv3D(32, (3,3,3), activation='relu',padding='same')(y)\n",
    "# y = Conv3D(32, (3,3,3), activation='relu',padding='same')(y)\n",
    "# y = MaxPooling3D(pool_size=(2,2,2))(y)\n",
    "\n",
    "#y = Dropout(0.25)(y)\n",
    "#y = Flatten()(y)\n",
    "\n",
    "# Summing the representations outputted by \\phi Network.\n",
    "y = Lambda(lambda x_: tf.reduce_sum(x_,axis=[1,2,3],keep_dims=True))(y)\n",
    "y = Reshape((1,))(y)\n",
    "\n",
    "# \\rho Network\n",
    "y = Dense(64, activation='relu')(y)\n",
    "y = Dense(32, activation='relu')(y)\n",
    "y = Dense(16, activation='relu')(y)\n",
    "#y = Dense(128, activation='relu')(y)\n",
    "#y = Dense(128, activation='relu')(y)\n",
    "y = Dense(1,activation='relu')(y)\n",
    "\n",
    "model = Model(x,y)\n"
   ]
  },
  {
   "cell_type": "code",
   "execution_count": 54,
   "metadata": {},
   "outputs": [
    {
     "name": "stdout",
     "output_type": "stream",
     "text": [
      "input_9 (None, None, 28, 28) Tensor(\"input_9:0\", shape=(?, ?, 28, 28), dtype=float32)\n",
      "conv2d_13 (None, None, 28, 32) Tensor(\"conv2d_13/Relu:0\", shape=(?, ?, 28, 32), dtype=float32)\n",
      "conv2d_14 (None, None, 28, 64) Tensor(\"conv2d_14/Relu:0\", shape=(?, ?, 28, 64), dtype=float32)\n",
      "max_pooling2d_6 (None, None, 14, 64) Tensor(\"max_pooling2d_6/MaxPool:0\", shape=(?, ?, 14, 64), dtype=float32)\n",
      "lambda_6 (None, 1, 1, 1) Tensor(\"lambda_6/Sum:0\", shape=(?, 1, 1, 1), dtype=float32)\n",
      "reshape_4 (None, 1) Tensor(\"reshape_4/Reshape:0\", shape=(?, 1), dtype=float32)\n",
      "dense_13 (None, 64) Tensor(\"dense_13/Relu:0\", shape=(?, 64), dtype=float32)\n",
      "dense_14 (None, 32) Tensor(\"dense_14/Relu:0\", shape=(?, 32), dtype=float32)\n",
      "dense_15 (None, 16) Tensor(\"dense_15/Relu:0\", shape=(?, 16), dtype=float32)\n",
      "dense_16 (None, 1) Tensor(\"dense_16/Relu:0\", shape=(?, 1), dtype=float32)\n"
     ]
    }
   ],
   "source": [
    "for layer in model.layers:\n",
    "    print (layer.name,layer.output_shape,layer.output)"
   ]
  },
  {
   "cell_type": "code",
   "execution_count": 55,
   "metadata": {
    "collapsed": true
   },
   "outputs": [],
   "source": [
    "train_steps_per_epoch=100000\n",
    "test_steps_per_epoch=10000\n",
    "train_epochs=10"
   ]
  },
  {
   "cell_type": "code",
   "execution_count": 56,
   "metadata": {
    "collapsed": true
   },
   "outputs": [],
   "source": [
    "def least_squared_error(y_true, y_pred):\n",
    "    return K.sum(K.square(y_pred - y_true), axis=-1)"
   ]
  },
  {
   "cell_type": "code",
   "execution_count": 57,
   "metadata": {
    "collapsed": true
   },
   "outputs": [],
   "source": [
    "model.compile(optimizer='adam',\n",
    "              loss=least_squared_error,\n",
    "              metrics=[\"mse\",least_squared_error,'accuracy'])"
   ]
  },
  {
   "cell_type": "code",
   "execution_count": null,
   "metadata": {},
   "outputs": [
    {
     "name": "stdout",
     "output_type": "stream",
     "text": [
      "Epoch 1/10\n",
      "  6877/100000 [=>............................] - ETA: 2965s - loss: 826.7776 - mean_squared_error: 826.7776 - least_squared_error: 826.7776 - acc: 0.0103"
     ]
    }
   ],
   "source": [
    "model.fit_generator(train_generator,\n",
    "                    steps_per_epoch=train_steps_per_epoch,\n",
    "                    epochs=train_epochs,\n",
    "                    validation_data=test_generator,\n",
    "                    validation_steps=test_steps_per_epoch\n",
    "                    )"
   ]
  },
  {
   "cell_type": "code",
   "execution_count": null,
   "metadata": {
    "collapsed": true
   },
   "outputs": [],
   "source": [
    "a = np.random.randint(10, size=(100))\n",
    "model.predict(np.reshape(a,(1,100,1)))"
   ]
  },
  {
   "cell_type": "code",
   "execution_count": null,
   "metadata": {},
   "outputs": [],
   "source": [
    "np.sum(a)"
   ]
  },
  {
   "cell_type": "code",
   "execution_count": null,
   "metadata": {
    "collapsed": true
   },
   "outputs": [],
   "source": [
    "X = np.random.randint(10, size=(10*32))\n",
    "X = np.reshape(X,(32,10))"
   ]
  },
  {
   "cell_type": "code",
   "execution_count": null,
   "metadata": {
    "collapsed": true
   },
   "outputs": [],
   "source": [
    "model.evaluate_generator(DataGenerator(**params).generate(N=13),steps=1000)"
   ]
  },
  {
   "cell_type": "code",
   "execution_count": null,
   "metadata": {
    "collapsed": true
   },
   "outputs": [],
   "source": [
    "X.shape"
   ]
  },
  {
   "cell_type": "code",
   "execution_count": null,
   "metadata": {
    "collapsed": true
   },
   "outputs": [],
   "source": [
    "X[0]"
   ]
  },
  {
   "cell_type": "code",
   "execution_count": null,
   "metadata": {
    "collapsed": true
   },
   "outputs": [],
   "source": []
  }
 ],
 "metadata": {
  "kernelspec": {
   "display_name": "Python 2",
   "language": "python",
   "name": "python2"
  },
  "language_info": {
   "codemirror_mode": {
    "name": "ipython",
    "version": 2
   },
   "file_extension": ".py",
   "mimetype": "text/x-python",
   "name": "python",
   "nbconvert_exporter": "python",
   "pygments_lexer": "ipython2",
   "version": "2.7.12"
  }
 },
 "nbformat": 4,
 "nbformat_minor": 2
}
